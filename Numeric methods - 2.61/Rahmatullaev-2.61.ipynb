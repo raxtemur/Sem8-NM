{
 "cells": [
  {
   "cell_type": "code",
   "execution_count": 26,
   "id": "5f811518-9103-4619-942b-5171c5bd8c05",
   "metadata": {},
   "outputs": [],
   "source": [
    "import numpy as np\n",
    "from matplotlib import pyplot as plt\n",
    "from tqdm.notebook import tqdm"
   ]
  },
  {
   "cell_type": "markdown",
   "id": "44d32371-b9a1-4be6-a517-15bf34fdd9d2",
   "metadata": {},
   "source": [
    "# Решение уравнения методом Рунге-Кутта, в предположении известных начальных условий\n",
    "\n",
    "Исходный вид уравнения:\n",
    "$$\\frac{d^2 x}{dt^2} + \\alpha \\frac{\\frac{dx}{dt}}{\\sqrt{(1+(\\frac{dx}{dt})^2)}} - x - x^3 = \\cos{t}$$\n",
    "Обозначим $y_1 = x, y_2 = \\frac{dx}{dt}$\n",
    "\n",
    "Перепишем уравнение в систему двух:\n",
    "$$\\dot{y_1} = y_2$$\n",
    "$$\\dot{y_2} = y_1 + y_1^3 - \\alpha \\frac{y_2}{\\sqrt{1+y_2^2}} + \\cos{t}$$\n",
    "\n",
    "Обозначим $\\overline{y} = (y_1, y_2)$, и $ \\dot{\\overline{y}} = f(t, \\overline{y})$"
   ]
  },
  {
   "cell_type": "code",
   "execution_count": 27,
   "id": "5a90a564-fe70-42bc-83e1-33da8d98bf3d",
   "metadata": {},
   "outputs": [],
   "source": [
    "def f(t, y, alpha = 1):  #or a = 2\n",
    "    y1, y2 = y\n",
    "    yy1 = y2\n",
    "    yy2 = y1 + y1**3 - alpha*y2/(1+y2**2)**(1/2) + np.cos(t)\n",
    "    return np.array([yy1, yy2])"
   ]
  },
  {
   "cell_type": "markdown",
   "id": "14f9b355-d90d-4f1c-9119-9f60533d1800",
   "metadata": {},
   "source": [
    "Решать будем Рунге-Кутта 4ого порядка:\n",
    "$$\\textbf{k}_1 = \\textbf{f} \\left( t_n, \\textbf{y}_n \\right), $$\n",
    "$$\\textbf{k}_2 = \\textbf{f} \\left( t_n + {h \\over 2}, \\textbf{y}_n + {h \\over 2} \\textbf{k}_1 \\right), $$\n",
    "$$\\textbf{k}_3 = \\textbf{f} \\left( t_n + {h \\over 2}, \\textbf{y}_n + {h \\over 2} \\textbf{k}_2 \\right), $$\n",
    "$$\\textbf{k}_4 = \\textbf{f} \\left( t_n + h, \\textbf{y}_n + h\\ \\textbf{k}_3 \\right). $$\n",
    "$$\\textbf{y}_{n+1} = \\varphi(t_n,  \\textbf{y}_n) = \\textbf{y}_n + {h \\over 6}(\\textbf{k}_1 + 2\\textbf{k}_2 + 2\\textbf{k}_3 + \\textbf{k}_4)$$\n",
    "\n",
    "Точность метода порядка $o(h^4)$. Для простаты по умолчанию считаем $h=0.1$"
   ]
  },
  {
   "cell_type": "code",
   "execution_count": 28,
   "id": "a5d94b0c-ea8a-45f3-984f-d189fb400d07",
   "metadata": {},
   "outputs": [],
   "source": [
    "def phi(t, y, h=0.001, alpha = 1):\n",
    "    #print(t, y)\n",
    "    k1 = f(t, y, alpha=alpha)\n",
    "    k2 = f(t + h/2, y + h/2*k1, alpha=alpha)\n",
    "    k3 = f(t + h/2, y + h/2*k2, alpha=alpha)\n",
    "    k4 = f(t + h, y + h*k3, alpha=alpha)\n",
    "    \n",
    "    return y + h/6*(k1 + 2*k2 + 2*k3 + k4)"
   ]
  },
  {
   "cell_type": "markdown",
   "id": "97620367-1f82-4ca7-b7f7-f1812b844899",
   "metadata": {},
   "source": [
    "Решать будем на $t \\in [-\\pi, \\pi]$, i.e. $t_0 = -\\pi$. Допустим знаем $\\overline{y}(-\\pi) = (x, \\dot{x}) = (y_{10}, y_{20})$, тогда итеративно $\\textbf{y}_{n+1} = \\varphi(t_n,  \\textbf{y}_n)$. После $t_n = 3.1$ считаем $h = \\pi - 3.1$. Значения $\\overline{y}$ на значениях сетки будем хранить в $ans\\_grid$. "
   ]
  },
  {
   "cell_type": "code",
   "execution_count": 29,
   "id": "1d03c16e-9ac5-4ab3-acc9-995073e1cd98",
   "metadata": {},
   "outputs": [],
   "source": [
    "#if nan stops\n",
    "def solve(y0, alpha=1):\n",
    "    h=2*np.pi/1000\n",
    "    ans_grid = []\n",
    "    ans_grid.append(y0)\n",
    "    \n",
    "    left = 0\n",
    "    right = 2*np.pi\n",
    "    t_grid = [0]\n",
    "    t = left;\n",
    "\n",
    "    while(True):\n",
    "        ans_grid.append(phi(t, ans_grid[-1], h, alpha=alpha))\n",
    "        t += h\n",
    "        t_grid.append(t)\n",
    "        \n",
    "        \n",
    "        if (t>right):\n",
    "            break\n",
    "        #if (right - t < h):\n",
    "        #    ans_grid.append(phi(t, ans_grid[-1], right - t, alpha=alpha))\n",
    "        #    t_grid.append(right)\n",
    "        #    break\n",
    "            \n",
    "        if np.isnan(ans_grid[-1][0]):\n",
    "            break\n",
    "    return (t_grid, ans_grid)"
   ]
  },
  {
   "cell_type": "markdown",
   "id": "f144984a-6b0e-4db0-babb-e3c6cf819145",
   "metadata": {
    "tags": []
   },
   "source": [
    "# Оптимизация начального значения\n",
    "Для поиска периодического решения можно сформулировать задачу как задачу оптимизации разницы между $|\\overline{y}(0) - \\overline{y}(2 \\pi)|$, введем соответствующий функционал потерь:"
   ]
  },
  {
   "cell_type": "code",
   "execution_count": 30,
   "id": "6e3fcceb-dd9e-4b40-ba83-f7cb865e53d8",
   "metadata": {},
   "outputs": [],
   "source": [
    "def error(y0, plot = 0, alpha=1, mode='1D'):\n",
    "    t_grid, ans_grid = solve(y0, alpha=alpha)\n",
    "    if plot:\n",
    "        ans_grid = np.array(ans_grid)\n",
    "        plt.plot(t_grid, ans_grid)\n",
    "    #print(ans_grid[-1])\n",
    "    if mode == '1D':\n",
    "        return np.linalg.norm(ans_grid[-1] - y0)**2\n",
    "    elif mode == '2D':\n",
    "        return ans_grid[-1] - y0"
   ]
  },
  {
   "cell_type": "markdown",
   "id": "37c50b6a-efaa-4390-be7c-7da55daad1df",
   "metadata": {},
   "source": [
    "Пример работы алгоритма, случайные начальные значения и подобранные так чтобы решение сходилось на $[0, 2\\pi]$:"
   ]
  },
  {
   "cell_type": "code",
   "execution_count": 31,
   "id": "30ff99b7-85ac-40f1-aaf5-9f16681dc918",
   "metadata": {},
   "outputs": [
    {
     "data": {
      "text/plain": [
       "0.22638488917265964"
      ]
     },
     "execution_count": 31,
     "metadata": {},
     "output_type": "execute_result"
    },
    {
     "data": {
      "image/png": "[encoded data removed]",
      "text/plain": [
       "<Figure size 432x288 with 1 Axes>"
      ]
     },
     "metadata": {
      "needs_background": "light"
     },
     "output_type": "display_data"
    }
   ],
   "source": [
    "bp = [-0.40987573,  0.19126111]\n",
    "\n",
    "error(bp, plot=1)\n",
    "#решение улетает в сингулярность(в небытие)"
   ]
  },
  {
   "cell_type": "code",
   "execution_count": 32,
   "id": "48158155-9230-43c3-bada-52dcb621df3e",
   "metadata": {},
   "outputs": [
    {
     "data": {
      "text/plain": [
       "1.5529982637621713"
      ]
     },
     "execution_count": 32,
     "metadata": {},
     "output_type": "execute_result"
    },
    {
     "data": {
      "image/png": "[encoded data removed]",
      "text/plain": [
       "<Figure size 432x288 with 1 Axes>"
      ]
     },
     "metadata": {
      "needs_background": "light"
     },
     "output_type": "display_data"
    }
   ],
   "source": [
    "bp = [ 0, -0.45]\n",
    "\n",
    "error(bp, plot=1, alpha=1)"
   ]
  },
  {
   "cell_type": "markdown",
   "id": "911e71c8-548e-4983-ac26-dcd65fdb84b8",
   "metadata": {},
   "source": [
    "Для примера, методом Нелдера — Мида, устойчивого к сингулярностям, \"угадаем\" начальные параметры, для которых получается периодическое решение:"
   ]
  },
  {
   "cell_type": "code",
   "execution_count": 12,
   "id": "db489e37-f53b-4b9b-9865-b7fd0463d140",
   "metadata": {},
   "outputs": [
    {
     "name": "stdout",
     "output_type": "stream",
     "text": [
      "Optimization terminated successfully.\n",
      "         Current function value: 0.000000\n",
      "         Iterations: 88\n",
      "         Function evaluations: 172\n",
      "[-0.39149294  0.16678684]\n"
     ]
    },
    {
     "data": {
      "text/plain": [
       "4.437761395703871e-17"
      ]
     },
     "execution_count": 12,
     "metadata": {},
     "output_type": "execute_result"
    },
    {
     "data": {
      "image/png": "[encoded data removed]",
      "text/plain": [
       "<Figure size 432x288 with 1 Axes>"
      ]
     },
     "metadata": {
      "needs_background": "light"
     },
     "output_type": "display_data"
    }
   ],
   "source": [
    "from scipy.optimize import minimize \n",
    "\n",
    "sol = minimize(error, bp, method='nelder-mead',\n",
    "               options={'xatol': 1e-8, 'disp': True})\n",
    "\n",
    "print(sol.x)\n",
    "error(sol.x, plot=1)"
   ]
  },
  {
   "cell_type": "markdown",
   "id": "d95a43a9-8084-4ba6-91a6-94fe8722bdc6",
   "metadata": {},
   "source": [
    "## Метод стрельбы, инициализация"
   ]
  },
  {
   "cell_type": "markdown",
   "id": "9dc46a8a-5773-4de8-beb4-b0542ecfc3b1",
   "metadata": {},
   "source": [
    "Простреляем квадрат $[-1, 1]^2$, для поиска начальных значений при которых решение хотя бы существует на $[0, 2\\pi]$"
   ]
  },
  {
   "cell_type": "code",
   "execution_count": 67,
   "id": "e2b1343a",
   "metadata": {},
   "outputs": [],
   "source": [
    "#import warnings\n",
    "#warnings.filterwarnings(\"ignore\")"
   ]
  },
  {
   "cell_type": "code",
   "execution_count": 65,
   "id": "57548aaa-e09b-4305-b612-428dedc1305c",
   "metadata": {
    "tags": []
   },
   "outputs": [],
   "source": [
    "def Shooting(iters = 2, d_steps=3, alpha=1):\n",
    "    anss = []\n",
    "    for x in tqdm(np.arange(-1, 1.1, 0.1)):\n",
    "        a0 = []\n",
    "        for y in np.arange(-1, 1.1, 0.1):\n",
    "            a0.append(error([x,y], alpha=alpha))\n",
    "        anss.append(a0)\n",
    "        \n",
    "    anss = np.array(anss)\n",
    "    nonnanvals = []\n",
    "    errors = []\n",
    "    for i, x in enumerate(anss.reshape(1,-1)[0]):\n",
    "        if not np.isnan(x):\n",
    "            nonnanvals.append(np.array([i//21, i%21])*0.1 - [1, 1])\n",
    "            errors.append(x)\n",
    "    \n",
    "    \n",
    "    for it in tqdm(range(1, iters+1)): \n",
    "        nonvals_new = []\n",
    "        errors = []\n",
    "        for p in tqdm(nonnanvals):\n",
    "            x_new, y_new = p\n",
    "            error_new = error(p, alpha=alpha)\n",
    "            for x in np.arange(p[0]-d_steps*10**(-it-1), p[0]+d_steps*10**(-it-1), 10**(-it-1)):\n",
    "                for y in np.arange(p[1]-d_steps*10**(-it-1), p[1]+d_steps*10**(-it-1), 10**(-it-1)):\n",
    "                    er = error([x, y])\n",
    "                    if er < error_new:\n",
    "                        error_new, x_new, y_new = er, x, y\n",
    "            nonvals_new.append([x_new, y_new])\n",
    "            errors.append(error_new)\n",
    "        nonnanvals = nonvals_new\n",
    "        \n",
    "    return np.array(nonnanvals), errors\n"
   ]
  },
  {
   "cell_type": "code",
   "execution_count": 37,
   "id": "1b21a64e",
   "metadata": {},
   "outputs": [
    {
     "data": {
      "application/vnd.jupyter.widget-view+json": {
       "model_id": "514fb08c8fa54188a1d2999a4aa23033",
       "version_major": 2,
       "version_minor": 0
      },
      "text/plain": [
       "  0%|          | 0/21 [00:00<?, ?it/s]"
      ]
     },
     "metadata": {},
     "output_type": "display_data"
    },
    {
     "data": {
      "application/vnd.jupyter.widget-view+json": {
       "model_id": "0f9be194819546b2898e673de1541343",
       "version_major": 2,
       "version_minor": 0
      },
      "text/plain": [
       "0it [00:00, ?it/s]"
      ]
     },
     "metadata": {},
     "output_type": "display_data"
    },
    {
     "name": "stdout",
     "output_type": "stream",
     "text": [
      "[[-0.7  0.7]\n",
      " [-0.6  0.5]\n",
      " [-0.4  0.2]\n",
      " [-0.3  0. ]\n",
      " [-0.2 -0.1]\n",
      " [-0.1 -0.3]\n",
      " [ 0.  -0.5]\n",
      " [ 0.1 -0.6]\n",
      " [ 0.2 -0.8]\n",
      " [ 0.3 -0.9]]\n"
     ]
    }
   ],
   "source": [
    "nonnanvals1, errors1 = Shooting(iters=0)\n",
    "print(nonnanvals1)"
   ]
  },
  {
   "cell_type": "markdown",
   "id": "c51ab78d-69b9-490d-81df-105d7ad37545",
   "metadata": {},
   "source": [
    "## Метод Ньютона"
   ]
  },
  {
   "cell_type": "markdown",
   "id": "185b64f9-c2eb-4a0c-80ab-3311805b6d64",
   "metadata": {},
   "source": [
    "Далее методом Ньютона доведем одну из точек(первую, что сойдется) до решения уравнения $Lx=x$, где оператор $L$ сопостовляет значению $(y_1(0), y_2(0))$ значение $(y_1(2\\pi), y_2(2\\pi))$"
   ]
  },
  {
   "cell_type": "code",
   "execution_count": 72,
   "id": "797f0aa6",
   "metadata": {},
   "outputs": [],
   "source": [
    "def derivatives(p, alpha=1., d=0.001):\n",
    "    dx = np.array([d, 0])\n",
    "    dy = np.array([0, d])\n",
    "    \n",
    "    x1, y1 = error(p, mode='2D', alpha=alpha)\n",
    "    x2, y2 = error(p + dx, mode='2D', alpha=alpha)\n",
    "    x3, y3 = error(p + dy, mode='2D', alpha=alpha)\n",
    "    dex_dx = (x2 - x1) / d\n",
    "    dey_dx = (y2 - y1) / d\n",
    "    dex_dy = (x3 - x1) / d\n",
    "    dey_dy = (y3 - y1) / d\n",
    "    return dex_dx, dex_dy, dey_dx, dey_dy\n",
    "\n",
    "\n",
    "def newtonian_finder(p0, alpha=1., silent=1): # поиск начальных условий методом Ньютона \n",
    "    p = p0\n",
    "    for k in tqdm(range(50)):\n",
    "        dex_dx, dex_dy, dey_dx, dey_dy = derivatives(p, alpha=alpha)\n",
    "        det = dex_dx*dey_dy - dey_dx*dex_dy\n",
    "        ex, ey = error(p, mode='2D', alpha=alpha)\n",
    "        delta = [(-ex*dey_dy + dex_dy * ey), (-ey*dex_dx + dey_dx * ex)] / det\n",
    "        p += delta\n",
    "        \n",
    "        if not silent:\n",
    "            print(np.linalg.norm([ex,ey]), p)\n",
    "            \n",
    "        if np.linalg.norm([ex,ey]) < 1e-10:\n",
    "            break\n",
    "            \n",
    "    if (np.linalg.norm([ex,ey]) > 1e-10):\n",
    "        return None\n",
    "    else:\n",
    "        return p\n"
   ]
  },
  {
   "cell_type": "code",
   "execution_count": 82,
   "id": "6f365f3f",
   "metadata": {},
   "outputs": [
    {
     "data": {
      "application/vnd.jupyter.widget-view+json": {
       "model_id": "1d3cd1d6619645078bdee166892d1d02",
       "version_major": 2,
       "version_minor": 0
      },
      "text/plain": [
       "  0%|          | 0/50 [00:00<?, ?it/s]"
      ]
     },
     "metadata": {},
     "output_type": "display_data"
    },
    {
     "data": {
      "application/vnd.jupyter.widget-view+json": {
       "model_id": "b2f280bcc6074a1999cbdec79a8b2d61",
       "version_major": 2,
       "version_minor": 0
      },
      "text/plain": [
       "  0%|          | 0/50 [00:00<?, ?it/s]"
      ]
     },
     "metadata": {},
     "output_type": "display_data"
    },
    {
     "data": {
      "application/vnd.jupyter.widget-view+json": {
       "model_id": "b43a934e7a244f7290ed6ae9baa2e9e6",
       "version_major": 2,
       "version_minor": 0
      },
      "text/plain": [
       "  0%|          | 0/50 [00:00<?, ?it/s]"
      ]
     },
     "metadata": {},
     "output_type": "display_data"
    }
   ],
   "source": [
    "for p in nonnanvals1:\n",
    "    sol = newtonian_finder(p, silent=1)\n",
    "    if  not any(np.isnan(sol)):\n",
    "        break"
   ]
  },
  {
   "cell_type": "code",
   "execution_count": null,
   "id": "cdad7edf-d8eb-407f-9035-6ac22fa7081c",
   "metadata": {},
   "outputs": [],
   "source": []
  },
  {
   "cell_type": "code",
   "execution_count": 83,
   "id": "94957855",
   "metadata": {
    "scrolled": true
   },
   "outputs": [
    {
     "data": {
      "text/plain": [
       "3.1883621516724104e-24"
      ]
     },
     "execution_count": 83,
     "metadata": {},
     "output_type": "execute_result"
    },
    {
     "data": {
      "image/png": "[encoded data removed]",
      "text/plain": [
       "<Figure size 432x288 with 1 Axes>"
      ]
     },
     "metadata": {
      "needs_background": "light"
     },
     "output_type": "display_data"
    }
   ],
   "source": [
    "error(sol, plot=1, alpha=1)"
   ]
  },
  {
   "cell_type": "markdown",
   "id": "20f5a7e5-32ce-4ba0-a4f4-92fbedf115c3",
   "metadata": {},
   "source": [
    "## Вывод результата в файл"
   ]
  },
  {
   "cell_type": "code",
   "execution_count": 84,
   "id": "2cc9f5ca-5464-4d2a-8cb8-68e75e2f4310",
   "metadata": {},
   "outputs": [],
   "source": [
    "ans = \"\"\n",
    "sol = solve(nonnanvals1[2])[1]\n",
    "for i in sol:\n",
    "    ans += '%.16f'%i[0] + \"\\t\\t\" + '%.16f'%(i[1]) + \"\\n\"\n",
    "    \n",
    "with open(\"./output_1.txt\", \"w\") as file:\n",
    "    file.write(ans)"
   ]
  },
  {
   "cell_type": "code",
   "execution_count": null,
   "id": "92c6b0ef",
   "metadata": {},
   "outputs": [],
   "source": []
  },
  {
   "cell_type": "markdown",
   "id": "3b3154d8-86c0-470a-a0cd-082d20f495a2",
   "metadata": {},
   "source": [
    "# Повторение программы при $\\alpha=2$"
   ]
  },
  {
   "cell_type": "code",
   "execution_count": 88,
   "id": "85236c56-3b16-4443-a338-b89ae209d745",
   "metadata": {},
   "outputs": [
    {
     "data": {
      "application/vnd.jupyter.widget-view+json": {
       "model_id": "3b20bd9b6da040c69de7c1f143d1db4a",
       "version_major": 2,
       "version_minor": 0
      },
      "text/plain": [
       "  0%|          | 0/21 [00:00<?, ?it/s]"
      ]
     },
     "metadata": {},
     "output_type": "display_data"
    },
    {
     "data": {
      "application/vnd.jupyter.widget-view+json": {
       "model_id": "6146dbd61a5046ca9718f72267479b69",
       "version_major": 2,
       "version_minor": 0
      },
      "text/plain": [
       "0it [00:00, ?it/s]"
      ]
     },
     "metadata": {},
     "output_type": "display_data"
    },
    {
     "name": "stdout",
     "output_type": "stream",
     "text": [
      "[[-0.6  0.9]\n",
      " [-0.6  1. ]\n",
      " [-0.5  0.6]\n",
      " [-0.5  0.7]\n",
      " [-0.5  0.8]\n",
      " [-0.4  0.4]\n",
      " [-0.4  0.5]\n",
      " [-0.4  0.6]\n",
      " [-0.4  0.7]\n",
      " [-0.3  0.2]\n",
      " [-0.3  0.3]\n",
      " [-0.3  0.4]\n",
      " [-0.3  0.5]\n",
      " [-0.2  0. ]\n",
      " [-0.2  0.1]\n",
      " [-0.2  0.2]\n",
      " [-0.2  0.3]\n",
      " [-0.1 -0.3]\n",
      " [-0.1 -0.2]\n",
      " [-0.1 -0.1]\n",
      " [-0.1  0. ]\n",
      " [ 0.  -0.5]\n",
      " [ 0.  -0.4]\n",
      " [ 0.  -0.3]\n",
      " [ 0.  -0.2]\n",
      " [ 0.1 -0.7]\n",
      " [ 0.1 -0.6]\n",
      " [ 0.1 -0.5]\n",
      " [ 0.1 -0.4]\n",
      " [ 0.2 -0.9]\n",
      " [ 0.2 -0.8]\n",
      " [ 0.2 -0.7]\n",
      " [ 0.3 -1. ]\n",
      " [ 0.3 -0.9]]\n"
     ]
    },
    {
     "data": {
      "application/vnd.jupyter.widget-view+json": {
       "model_id": "8f15bd15315045bf960afd1a62e22396",
       "version_major": 2,
       "version_minor": 0
      },
      "text/plain": [
       "  0%|          | 0/50 [00:00<?, ?it/s]"
      ]
     },
     "metadata": {},
     "output_type": "display_data"
    },
    {
     "data": {
      "application/vnd.jupyter.widget-view+json": {
       "model_id": "631432aefdb348debf3ad7d278fb32a4",
       "version_major": 2,
       "version_minor": 0
      },
      "text/plain": [
       "  0%|          | 0/50 [00:00<?, ?it/s]"
      ]
     },
     "metadata": {},
     "output_type": "display_data"
    },
    {
     "data": {
      "application/vnd.jupyter.widget-view+json": {
       "model_id": "9e58bab4e6274691b847837b7acb8c62",
       "version_major": 2,
       "version_minor": 0
      },
      "text/plain": [
       "  0%|          | 0/50 [00:00<?, ?it/s]"
      ]
     },
     "metadata": {},
     "output_type": "display_data"
    },
    {
     "data": {
      "application/vnd.jupyter.widget-view+json": {
       "model_id": "e8545c4cc4d44fa58032661709e403a5",
       "version_major": 2,
       "version_minor": 0
      },
      "text/plain": [
       "  0%|          | 0/50 [00:00<?, ?it/s]"
      ]
     },
     "metadata": {},
     "output_type": "display_data"
    },
    {
     "data": {
      "application/vnd.jupyter.widget-view+json": {
       "model_id": "0eabcfdb89c7401e87fc92df6db69372",
       "version_major": 2,
       "version_minor": 0
      },
      "text/plain": [
       "  0%|          | 0/50 [00:00<?, ?it/s]"
      ]
     },
     "metadata": {},
     "output_type": "display_data"
    },
    {
     "data": {
      "application/vnd.jupyter.widget-view+json": {
       "model_id": "41edfd6ea6c047da934da05bef1915a2",
       "version_major": 2,
       "version_minor": 0
      },
      "text/plain": [
       "  0%|          | 0/50 [00:00<?, ?it/s]"
      ]
     },
     "metadata": {},
     "output_type": "display_data"
    },
    {
     "data": {
      "application/vnd.jupyter.widget-view+json": {
       "model_id": "58c7bf40d01f4b9b81b58414ff72fd68",
       "version_major": 2,
       "version_minor": 0
      },
      "text/plain": [
       "  0%|          | 0/50 [00:00<?, ?it/s]"
      ]
     },
     "metadata": {},
     "output_type": "display_data"
    },
    {
     "data": {
      "application/vnd.jupyter.widget-view+json": {
       "model_id": "447e217984884709ae1f476b3117516d",
       "version_major": 2,
       "version_minor": 0
      },
      "text/plain": [
       "  0%|          | 0/50 [00:00<?, ?it/s]"
      ]
     },
     "metadata": {},
     "output_type": "display_data"
    },
    {
     "name": "stdout",
     "output_type": "stream",
     "text": [
      "[-0.26128685  0.23509226]\n"
     ]
    },
    {
     "data": {
      "image/png": "[encoded data removed]",
      "text/plain": [
       "<Figure size 432x288 with 1 Axes>"
      ]
     },
     "metadata": {
      "needs_background": "light"
     },
     "output_type": "display_data"
    }
   ],
   "source": [
    "nonnanvals2, errors2 = Shooting(iters=0, alpha=2)\n",
    "print(nonnanvals2)\n",
    "\n",
    "for p in nonnanvals1:\n",
    "    sol = newtonian_finder(p, silent=1, alpha=2)\n",
    "    if  not any(np.isnan(sol)):\n",
    "        print(sol)\n",
    "        break\n",
    "\n",
    "error(sol, plot=1, alpha=2)\n",
    "        \n",
    "ans = \"\"\n",
    "data = solve(sol, alpha=2)[1]\n",
    "for i in data:\n",
    "    ans += '%.16f'%i[0] + \"\\t\\t\" + '%.16f'%(i[1]) + \"\\n\"\n",
    "    \n",
    "with open(\"./output_2.txt\", \"w\") as file:\n",
    "    file.write(ans)"
   ]
  },
  {
   "cell_type": "markdown",
   "id": "f52aa5b9-e757-4c42-aa32-044e42039143",
   "metadata": {},
   "source": [
    "# Остатки кода с градиентным спуском"
   ]
  },
  {
   "cell_type": "markdown",
   "id": "29a3e84f-e62e-44f6-84db-91e46dba4ba2",
   "metadata": {},
   "source": [
    "Далее, пробежимся по найденым точкам и попробуем \"добить\" найденные точки градиентным спуском(SGD с Нестеровым), среди найденных выберем лучшее. Очевидно, здесь мы просто надеемся, что реальное приодическое решение попало в окрестность одной из настрелянных точек, в которой решение диффура гладко зависит от начальных параметров. Где нет - спуск по градиенты быстро выкидывает за область допустимых начальных значений.\n",
    "\n",
    "Здесь мы полагаемся еще и на то что первые несколько шагов градиентного спуска сделают большую часть приближения. Нестеров был приписан только с надеждой далее лучшую из выбранных точек приблизить достаточно хорошо."
   ]
  },
  {
   "cell_type": "code",
   "execution_count": 10,
   "id": "66619409-96c2-47c7-8bc5-3d83bba36e64",
   "metadata": {},
   "outputs": [],
   "source": [
    "'''\n",
    "def ev_grad(y, d = 0.0001):\n",
    "    dx = np.array([d, 0])\n",
    "    dy = np.array([0, d])\n",
    "    \n",
    "    erd = ((np.array([error(y+dx), error(y+dy)]) - error(y))/d)\n",
    "    #print(erd)\n",
    "    return erd\n",
    "    \n",
    "def grad_desc(y0, rate=0.00001, maxstep=100, callback=1, nester = 0.1):\n",
    "    step=0\n",
    "    y = y0\n",
    "    bestval = error(y0)\n",
    "    beststep = 0\n",
    "    beststepcombo = 0\n",
    "    gr = np.array([0, 0])\n",
    "    \n",
    "    while(step < maxstep and not any(np.isnan(y))):\n",
    "        \n",
    "        gr = nester*gr + (1-nester)*ev_grad(y, d=rate)\n",
    "        y = y - rate*gr\n",
    "        val = error(y)\n",
    "        \n",
    "        if (val < bestval):\n",
    "            bestval = val\n",
    "            beststep = step\n",
    "            beststepcombo += 1\n",
    "        else:\n",
    "            beststepcombo = 0\n",
    "        if (step - beststep > 5):\n",
    "            rate=rate/10\n",
    "            beststep = step\n",
    "            print(f\"New lr rate is {rate}\")\n",
    "        if (beststepcombo > 50):\n",
    "            rate=rate*2\n",
    "            beststepcombo = 0\n",
    "            print(f\"New lr rate is {rate}\")    \n",
    "        if (rate < 1e-10):\n",
    "            break\n",
    "        if step%callback==0:\n",
    "            print(f\"step {step}:\", gr, y, error(y))\n",
    "        step+=1\n",
    "    return y\n",
    "\n",
    "def vals_optim(nonnanvals, maxstep=10, callback=5, plot=0):\n",
    "    nonnanvals_opimized = []\n",
    "    for bp in tqdm(nonnanvals):\n",
    "        print(f\"\\n\\nOptimizing point {bp}\")\n",
    "        ans = grad_desc(bp, rate=0.00001, maxstep=maxstep, callback=callback)\n",
    "        if not any(np.isnan(ans)):\n",
    "            nonnanvals_opimized.append([ans, error(ans, plot=plot)])\n",
    "        plt.show()\n",
    "    return nonnanvals_opimized\n",
    "'''"
   ]
  },
  {
   "cell_type": "code",
   "execution_count": null,
   "id": "e1a3f5b7-59fe-4145-8e2a-2ab76517575d",
   "metadata": {},
   "outputs": [],
   "source": [
    "'''nonnanvals_opimized1 = vals_optim(nonnanvals1)"
   ]
  },
  {
   "cell_type": "code",
   "execution_count": 12,
   "id": "82452418-58aa-4143-97db-2890893171ec",
   "metadata": {},
   "outputs": [
    {
     "name": "stdout",
     "output_type": "stream",
     "text": [
      "[array([-0.4080975 ,  0.19510771]), 0.003357392405906784]\n"
     ]
    },
    {
     "data": {
      "text/plain": [
       "0.003357392405906784"
      ]
     },
     "execution_count": 12,
     "metadata": {},
     "output_type": "execute_result"
    },
    {
     "data": {
      "image/png": "[encoded data removed]",
      "text/plain": [
       "<Figure size 432x288 with 1 Axes>"
      ]
     },
     "metadata": {
      "needs_background": "light"
     },
     "output_type": "display_data"
    }
   ],
   "source": [
    "'''minid1 = np.array(nonnanvals_opimized1, dtype=object).T[1].argmin()\n",
    "print(nonnanvals_opimized1[minid1])\n",
    "error(nonnanvals_opimized1[minid1][0], plot=1)"
   ]
  },
  {
   "cell_type": "code",
   "execution_count": null,
   "id": "7f342959-8e43-4c3d-93c4-3d351ba63020",
   "metadata": {},
   "outputs": [],
   "source": []
  },
  {
   "cell_type": "code",
   "execution_count": null,
   "id": "2240e017-2daa-471a-be17-eb8125ff00ad",
   "metadata": {},
   "outputs": [],
   "source": []
  }
 ],
 "metadata": {
  "kernelspec": {
   "display_name": "Python 3 (ipykernel)",
   "language": "python",
   "name": "python3"
  },
  "language_info": {
   "codemirror_mode": {
    "name": "ipython",
    "version": 3
   },
   "file_extension": ".py",
   "mimetype": "text/x-python",
   "name": "python",
   "nbconvert_exporter": "python",
   "pygments_lexer": "ipython3",
   "version": "3.7.4"
  }
 },
 "nbformat": 4,
 "nbformat_minor": 5
}
